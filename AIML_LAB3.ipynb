{
  "cells": [
    {
      "cell_type": "markdown",
      "metadata": {
        "id": "view-in-github",
        "colab_type": "text"
      },
      "source": [
        "<a href=\"https://colab.research.google.com/github/2303a52160/2303a52160-AIML_2025/blob/main/AIML_LAB3.ipynb\" target=\"_parent\"><img src=\"https://colab.research.google.com/assets/colab-badge.svg\" alt=\"Open In Colab\"/></a>"
      ]
    },
    {
      "cell_type": "markdown",
      "metadata": {
        "id": "YgtHfQCM-bSR"
      },
      "source": [
        "1 Implement the AI Game Strategy\n",
        "\n",
        "Part 1 (a). Install the Python Libraries required for Game Strategy\n",
        "\n",
        "Install the python libraries- collections, random, math, functools, cache = functools.lru cache(10**6)\n",
        "\n",
        "Implement a Game Class Constructor using action, is terminal, result, utility functions\n",
        "\n",
        "A game is similar to a problem, but it has a terminal test instead of a goal test, and a utility for each terminal state.\n",
        "\n",
        "Create a game subclass and implement actions, result, is terminal, and utility.\n",
        "\n",
        "You will also need to set the initial attribute to the initial state; this can be done in the constructor."
      ]
    },
    {
      "cell_type": "code",
      "execution_count": null,
      "metadata": {
        "colab": {
          "base_uri": "https://localhost:8080/"
        },
        "id": "Jm7nVacE-YDG",
        "outputId": "2ba5dfcf-bb9d-4e8c-e1f0-873de6f24dab"
      },
      "outputs": [
        {
          "name": "stdout",
          "output_type": "stream",
          "text": [
            "Initial State: [0, 0, 0, 0, 0]\n",
            "Available Actions: [0, 1, 2, 3, 4]\n",
            "Next State: [0, 0, 1, 0, 0]\n",
            "Is Terminal: False\n",
            "Utility: 0\n"
          ]
        }
      ],
      "source": [
        "import collections\n",
        "import random\n",
        "import math\n",
        "import functools\n",
        "\n",
        "# Set the cache for memoization\n",
        "cache = functools.lru_cache(maxsize=10**6)\n",
        "\n",
        "class Game:\n",
        "    def __init__(self, initial_state):\n",
        "        self.initial = initial_state\n",
        "\n",
        "    # Function to define possible actions for a given state\n",
        "    def actions(self, state):\n",
        "        \"\"\"Returns the possible actions available in the given state.\"\"\"\n",
        "        raise NotImplementedError\n",
        "\n",
        "    # Function to check if the game has reached a terminal state\n",
        "    def is_terminal(self, state):\n",
        "        \"\"\"Returns True if the game has ended, False otherwise.\"\"\"\n",
        "        raise NotImplementedError\n",
        "\n",
        "    # Function to return the state resulting from applying an action to the current state\n",
        "    def result(self, state, action):\n",
        "        \"\"\"Returns the new state after applying the given action.\"\"\"\n",
        "        raise NotImplementedError\n",
        "\n",
        "    # Function to return the utility value of the game (win/loss/draw) when a terminal state is reached\n",
        "    def utility(self, state, player):\n",
        "        \"\"\"Returns the utility (value) of the terminal state for the player.\"\"\"\n",
        "        raise NotImplementedError\n",
        "\n",
        "# Subclass of Game for a specific game (e.g., Tic-Tac-Toe)\n",
        "class SimpleGame(Game):\n",
        "    def __init__(self, initial_state):\n",
        "        super().__init__(initial_state)\n",
        "\n",
        "    # Define the possible actions in this game\n",
        "    def actions(self, state):\n",
        "        # Example: return available moves (assuming state is a list)\n",
        "        return [i for i, val in enumerate(state) if val == 0]\n",
        "\n",
        "    # Define the result of an action\n",
        "    def result(self, state, action):\n",
        "        new_state = state[:]\n",
        "        new_state[action] = 1  # Example: Player 1's move\n",
        "        return new_state\n",
        "\n",
        "    # Check if the game is in a terminal state\n",
        "    def is_terminal(self, state):\n",
        "        return all(s != 0 for s in state)  # Example: all positions filled\n",
        "\n",
        "    # Calculate the utility (e.g., 1 for win, -1 for loss, 0 for draw)\n",
        "    def utility(self, state, player):\n",
        "        # Simple utility function for this example\n",
        "        if sum(state) > len(state) // 2:\n",
        "            return 1 if player == 1 else -1\n",
        "        return 0\n",
        "\n",
        "# Example usage\n",
        "initial_state = [0, 0, 0, 0, 0]  # Empty game state\n",
        "game = SimpleGame(initial_state)\n",
        "\n",
        "# Test the game functionality\n",
        "print(\"Initial State:\", game.initial)\n",
        "print(\"Available Actions:\", game.actions(game.initial))\n",
        "next_state = game.result(game.initial, 2)\n",
        "print(\"Next State:\", next_state)\n",
        "print(\"Is Terminal:\", game.is_terminal(next_state))\n",
        "print(\"Utility:\", game.utility(next_state, 1))"
      ]
    },
    {
      "cell_type": "markdown",
      "metadata": {
        "id": "6v-DVF2n-wWd"
      },
      "source": [
        "part-2\n",
        "1. Implement the MiniMax Search Algorithm"
      ]
    },
    {
      "cell_type": "code",
      "execution_count": null,
      "metadata": {
        "colab": {
          "base_uri": "https://localhost:8080/"
        },
        "id": "xpB2hm10-00v",
        "outputId": "c6bcb633-64c1-4a1b-985a-2eba9e655d2a"
      },
      "outputs": [
        {
          "name": "stdout",
          "output_type": "stream",
          "text": [
            "Best move: 0, Value: 0\n"
          ]
        }
      ],
      "source": [
        "import math\n",
        "\n",
        "def minimax_search(game, state):\n",
        "    \"\"\"Search the game tree to determine the best move; returns (value, move) pair.\"\"\"\n",
        "    player = state[1]  # 'X' or 'O', depending on whose turn it is\n",
        "\n",
        "    # Max value function for maximizing player\n",
        "    def max_value(state):\n",
        "        if game.is_terminal(state):\n",
        "            return game.utility(state, player), None\n",
        "\n",
        "        v, move = -math.inf, None\n",
        "        for a in game.actions(state):\n",
        "            v2, _ = min_value(game.result(state, a))\n",
        "            if v2 > v:\n",
        "                v, move = v2, a\n",
        "        return v, move\n",
        "\n",
        "    # Min value function for minimizing opponent\n",
        "    def min_value(state):\n",
        "        if game.is_terminal(state):\n",
        "            return game.utility(state, player), None\n",
        "\n",
        "        v, move = math.inf, None\n",
        "        for a in game.actions(state):\n",
        "            v2, _ = max_value(game.result(state, a))\n",
        "            if v2 < v:\n",
        "                v, move = v2, a\n",
        "        return v, move\n",
        "\n",
        "    # Return the best value and the corresponding move\n",
        "    return max_value(state) if player == 'X' else min_value(state)\n",
        "\n",
        "# Test the minimax with TicTacToe game\n",
        "class TicTacToe(Game):\n",
        "    def __init__(self):\n",
        "        # Start with an empty 3x3 grid and 'X' going first\n",
        "        super().__init__(initial_state=([' '] * 9, 'X'))\n",
        "\n",
        "    # Available actions are the indices of empty cells\n",
        "    def actions(self, state):\n",
        "        board, player = state\n",
        "        return [i for i, cell in enumerate(board) if cell == ' ']\n",
        "\n",
        "    # Resulting state after placing 'X' or 'O' at position 'action'\n",
        "    def result(self, state, action):\n",
        "        board, player = state\n",
        "        new_board = board.copy()\n",
        "        new_board[action] = player\n",
        "        next_player = 'O' if player == 'X' else 'X'\n",
        "        return (new_board, next_player)\n",
        "\n",
        "    # Terminal state if there's a winner or the board is full\n",
        "    def is_terminal(self, state):\n",
        "        board, _ = state\n",
        "        return self.check_winner(board) or ' ' not in board\n",
        "\n",
        "    # Utility: +1 for 'X' win, -1 for 'O' win, 0 for a draw\n",
        "    def utility(self, state, player):\n",
        "        board, _ = state\n",
        "        winner = self.check_winner(board)\n",
        "        if winner == 'X':\n",
        "            return 1 if player == 'X' else -1\n",
        "        elif winner == 'O':\n",
        "            return 1 if player == 'O' else -1\n",
        "        else:\n",
        "            return 0\n",
        "\n",
        "    # Helper function to check if there's a winner\n",
        "    def check_winner(self, board):\n",
        "        win_conditions = [(0, 1, 2), (3, 4, 5), (6, 7, 8),  # Rows\n",
        "                          (0, 3, 6), (1, 4, 7), (2, 5, 8),  # Columns\n",
        "                          (0, 4, 8), (2, 4, 6)]             # Diagonals\n",
        "        for (i, j, k) in win_conditions:\n",
        "            if board[i] == board[j] == board[k] and board[i] != ' ':\n",
        "                return board[i]\n",
        "        return None\n",
        "\n",
        "# Instantiate and run the minimax\n",
        "tic_tac_toe_game = TicTacToe()\n",
        "initial_state = tic_tac_toe_game.initial\n",
        "best_value, best_move = minimax_search(tic_tac_toe_game, initial_state)\n",
        "print(f\"Best move: {best_move}, Value: {best_value}\")\n"
      ]
    },
    {
      "cell_type": "markdown",
      "metadata": {
        "id": "FxkbMU9N--Vl"
      },
      "source": [
        ".Implement Alpha-beta Pruning"
      ]
    },
    {
      "cell_type": "code",
      "execution_count": null,
      "metadata": {
        "colab": {
          "base_uri": "https://localhost:8080/"
        },
        "id": "aRVquR0c-_LQ",
        "outputId": "b338ad39-9d62-4415-a2ca-6bbe51a3aac5"
      },
      "outputs": [
        {
          "name": "stdout",
          "output_type": "stream",
          "text": [
            "Best action from state 5 is: increment\n"
          ]
        }
      ],
      "source": [
        "import math\n",
        "\n",
        "# Define the game tree as a simple dictionary\n",
        "# Each state is a key, and its possible actions and resulting states are defined\n",
        "game_tree = {\n",
        "    5: {'actions': ['increment', 'decrement']},\n",
        "    6: {'actions': []},   # Terminal states\n",
        "    4: {'actions': []},   # Terminal states\n",
        "    10: {'actions': []},  # Terminal states with utility 10\n",
        "    0: {'actions': []}    # Terminal states with utility -10\n",
        "}\n",
        "\n",
        "# Define utilities for terminal states\n",
        "utilities = {\n",
        "    10: 10,\n",
        "    0: -10\n",
        "}\n",
        "\n",
        "def alpha_beta_search(initial_state):\n",
        "    def max_value(state, alpha, beta):\n",
        "        if state in utilities:\n",
        "            return utilities[state]\n",
        "\n",
        "        v = -math.inf\n",
        "        for action in game_tree[state]['actions']:\n",
        "            next_state = result(state, action)\n",
        "            v = max(v, min_value(next_state, alpha, beta))\n",
        "            if v >= beta:\n",
        "                return v\n",
        "            alpha = max(alpha, v)\n",
        "        return v\n",
        "\n",
        "    def min_value(state, alpha, beta):\n",
        "        if state in utilities:\n",
        "            return utilities[state]\n",
        "\n",
        "        v = math.inf\n",
        "        for action in game_tree[state]['actions']:\n",
        "            next_state = result(state, action)\n",
        "            v = min(v, max_value(next_state, alpha, beta))\n",
        "            if v <= alpha:\n",
        "                return v\n",
        "            beta = min(beta, v)\n",
        "        return v\n",
        "\n",
        "    def result(state, action):\n",
        "        if action == 'increment':\n",
        "            return state + 1\n",
        "        elif action == 'decrement':\n",
        "            return state - 1\n",
        "        else:\n",
        "            raise ValueError(\"Invalid action\")\n",
        "\n",
        "    best_action = None\n",
        "    alpha = -math.inf\n",
        "    beta = math.inf\n",
        "\n",
        "    for action in game_tree[initial_state]['actions']:\n",
        "        next_state = result(initial_state, action)\n",
        "        v = min_value(next_state, alpha, beta)\n",
        "        if v > alpha:\n",
        "            alpha = v\n",
        "            best_action = action\n",
        "\n",
        "    return best_action\n",
        "\n",
        "# Example usage\n",
        "initial_state = 5\n",
        "best_action = alpha_beta_search(initial_state)\n",
        "print(f\"Best action from state {initial_state} is: {best_action}\")\n"
      ]
    },
    {
      "cell_type": "markdown",
      "metadata": {
        "id": "TRIsuYIV_Dyb"
      },
      "source": [
        "Part 3 Implement the Game Strategy using TicTocToe"
      ]
    },
    {
      "cell_type": "markdown",
      "metadata": {
        "id": "-3kKxDrF_JrB"
      },
      "source": [
        "a. Implement TicToCToe game using display constructors init , actions, result, is terminal, utility,"
      ]
    },
    {
      "cell_type": "code",
      "execution_count": null,
      "metadata": {
        "colab": {
          "background_save": true,
          "base_uri": "https://localhost:8080/"
        },
        "id": "oUaFCQCC_Gpy",
        "outputId": "916222f1-6580-47b8-ddf3-9b1790e49133"
      },
      "outputs": [
        {
          "name": "stdout",
          "output_type": "stream",
          "text": [
            "\n",
            "   |   |  \n",
            "---|---|---\n",
            "   |   |  \n",
            "---|---|---\n",
            "   |   |  \n",
            "\n",
            "Player X's turn\n",
            "\n",
            "   |   | X\n",
            "---|---|---\n",
            "   |   |  \n",
            "---|---|---\n",
            "   |   |  \n",
            "\n",
            "Player O's turn\n",
            "\n",
            "   |   | X\n",
            "---|---|---\n",
            "   | O |  \n",
            "---|---|---\n",
            "   |   |  \n",
            "\n",
            "Player X's turn\n",
            "\n",
            "   | X | X\n",
            "---|---|---\n",
            "   | O |  \n",
            "---|---|---\n",
            "   |   |  \n",
            "\n",
            "Player O's turn\n",
            "\n",
            "   | X | X\n",
            "---|---|---\n",
            "   | O |  \n",
            "---|---|---\n",
            " O |   |  \n",
            "\n",
            "Player X's turn\n",
            "Invalid move. Try again.\n"
          ]
        }
      ],
      "source": [
        "class TicTacToe:\n",
        "    def __init__(self):\n",
        "        \"\"\"Initialize the game with an empty 3x3 board and 'X' as the first player.\"\"\"\n",
        "        self.board = [' '] * 9  # A list of 9 spaces representing the Tic-Tac-Toe grid\n",
        "        self.current_player = 'X'  # 'X' always goes first\n",
        "\n",
        "    def display(self):\n",
        "        \"\"\"Display the current state of the board.\"\"\"\n",
        "        print()\n",
        "        for i in range(3):\n",
        "            print(f\" {self.board[3 * i]} | {self.board[3 * i + 1]} | {self.board[3 * i + 2]}\")\n",
        "            if i < 2:\n",
        "                print(\"---|---|---\")\n",
        "        print()\n",
        "\n",
        "    def actions(self):\n",
        "        \"\"\"Return the list of available actions (empty spaces) on the board.\"\"\"\n",
        "        return [i for i in range(len(self.board)) if self.board[i] == ' ']\n",
        "\n",
        "    def result(self, action):\n",
        "        \"\"\"Return the new game state after performing the action.\"\"\"\n",
        "        new_game = TicTacToe()\n",
        "        new_game.board = self.board[:]\n",
        "        new_game.board[action] = self.current_player\n",
        "        new_game.current_player = 'O' if self.current_player == 'X' else 'X'\n",
        "        return new_game\n",
        "\n",
        "    def is_terminal(self):\n",
        "        \"\"\"Check if the game has ended (win or draw).\"\"\"\n",
        "        return self.check_winner() is not None or ' ' not in self.board\n",
        "\n",
        "    def utility(self):\n",
        "        \"\"\"Return 1 if 'X' wins, -1 if 'O' wins, 0 for a draw.\"\"\"\n",
        "        winner = self.check_winner()\n",
        "        if winner == 'X':\n",
        "            return 1\n",
        "        elif winner == 'O':\n",
        "            return -1\n",
        "        else:\n",
        "            return 0\n",
        "\n",
        "    def check_winner(self):\n",
        "        \"\"\"Check for a winner and return 'X', 'O', or None.\"\"\"\n",
        "        win_conditions = [(0, 1, 2), (3, 4, 5), (6, 7, 8),  # Rows\n",
        "                          (0, 3, 6), (1, 4, 7), (2, 5, 8),  # Columns\n",
        "                          (0, 4, 8), (2, 4, 6)]             # Diagonals\n",
        "        for (i, j, k) in win_conditions:\n",
        "            if self.board[i] == self.board[j] == self.board[k] and self.board[i] != ' ':\n",
        "                return self.board[i]\n",
        "        return None\n",
        "\n",
        "    def play(self):\n",
        "        \"\"\"Play a game of Tic-Tac-Toe.\"\"\"\n",
        "        while not self.is_terminal():\n",
        "            self.display()\n",
        "            print(f\"Player {self.current_player}'s turn\")\n",
        "            action = self.get_action()\n",
        "            self = self.result(action)\n",
        "\n",
        "        self.display()\n",
        "        winner = self.check_winner()\n",
        "        if winner:\n",
        "            print(f\"Player {winner} wins!\")\n",
        "        else:\n",
        "            print(\"It's a draw!\")\n",
        "\n",
        "    def get_action(self):\n",
        "        \"\"\"Get a valid action from the current player.\"\"\"\n",
        "        available_actions = self.actions()\n",
        "        while True:\n",
        "            try:\n",
        "                action = int(input(f\"Choose a move (0-8): \"))\n",
        "                if action in available_actions:\n",
        "                    return action\n",
        "                else:\n",
        "                    print(\"Invalid move. Try again.\")\n",
        "            except ValueError:\n",
        "                print(\"Please enter a number between 0 and 8.\")\n",
        "\n",
        "# Play the game\n",
        "tic_tac_toe = TicTacToe()\n",
        "tic_tac_toe.play()\n"
      ]
    }
  ],
  "metadata": {
    "colab": {
      "provenance": [],
      "authorship_tag": "ABX9TyNfqk3uRuWpOeH52pYNTbn5",
      "include_colab_link": true
    },
    "kernelspec": {
      "display_name": "Python 3",
      "name": "python3"
    },
    "language_info": {
      "name": "python"
    }
  },
  "nbformat": 4,
  "nbformat_minor": 0
}